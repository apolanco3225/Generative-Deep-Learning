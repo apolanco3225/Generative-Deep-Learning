{
  "nbformat": 4,
  "nbformat_minor": 0,
  "metadata": {
    "colab": {
      "name": "GDL_02.ipynb",
      "version": "0.3.2",
      "provenance": [],
      "include_colab_link": true
    },
    "kernelspec": {
      "name": "python3",
      "display_name": "Python 3"
    },
    "accelerator": "GPU"
  },
  "cells": [
    {
      "cell_type": "markdown",
      "metadata": {
        "id": "view-in-github",
        "colab_type": "text"
      },
      "source": [
        "<a href=\"https://colab.research.google.com/github/apolanco3225/Generative-Deep-Learning/blob/master/GDL_02.ipynb\" target=\"_parent\"><img src=\"https://colab.research.google.com/assets/colab-badge.svg\" alt=\"Open In Colab\"/></a>"
      ]
    },
    {
      "cell_type": "code",
      "metadata": {
        "id": "-Bjoz3AGcwFV",
        "colab_type": "code",
        "colab": {}
      },
      "source": [
        "# import necessary libraries\n",
        "%matplotlib inline\n",
        "import matplotlib.pyplot as plt\n",
        "from scipy.ndimage import correlate\n",
        "import numpy as np\n",
        "from skimage import data\n",
        "from skimage.color import rgb2gray\n",
        "from skimage.transform import rescale, resize"
      ],
      "execution_count": 0,
      "outputs": []
    },
    {
      "cell_type": "code",
      "metadata": {
        "id": "Q2fjdxNadjUj",
        "colab_type": "code",
        "colab": {
          "base_uri": "https://localhost:8080/",
          "height": 303
        },
        "outputId": "e334d5a5-6303-440c-b563-abac78a28614"
      },
      "source": [
        "# original image input\n",
        "img = rgb2gray(data.coffee())\n",
        "img = resize(img, (64, 64))\n",
        "print(img.shape)\n",
        "plt.axis('off')\n",
        "plt.imshow(img, cmap='gray')"
      ],
      "execution_count": 3,
      "outputs": [
        {
          "output_type": "stream",
          "text": [
            "(64, 64)\n"
          ],
          "name": "stdout"
        },
        {
          "output_type": "execute_result",
          "data": {
            "text/plain": [
              "<matplotlib.image.AxesImage at 0x7f9901015320>"
            ]
          },
          "metadata": {
            "tags": []
          },
          "execution_count": 3
        },
        {
          "output_type": "display_data",
          "data": {
            "image/png": "[encoded data removed]",
            "text/plain": [
              "<Figure size 432x288 with 1 Axes>"
            ]
          },
          "metadata": {
            "tags": []
          }
        }
      ]
    },
    {
      "cell_type": "code",
      "metadata": {
        "id": "l3BpeSnad9e0",
        "colab_type": "code",
        "colab": {
          "base_uri": "https://localhost:8080/",
          "height": 268
        },
        "outputId": "dc5c8d93-8cbc-4511-df91-a6cd06cd79ef"
      },
      "source": [
        "# horizontal edge filter\n",
        "\n",
        "filter1 = np.array([\n",
        "    [1, 1, 1], \n",
        "    [0, 0, 0],\n",
        "    [-1, -1, -1]\n",
        "])\n",
        "\n",
        "new_image = np.zeros(img.shape)\n",
        "\n",
        "im_pad = np.pad(img, 1, 'constant')\n",
        "\n",
        "for i in range(img.shape[0]):\n",
        "  for j in range(img.shape[1]):\n",
        "    try:\n",
        "      new_image[i, j] = \\\n",
        "      im_pad[i-1, j-1] * filter1[0, 0] + \\\n",
        "      im_pad[i-1, j] * filter1[0,1] + \\\n",
        "      im_pad[i-1, j+1] * filter1[0,2] + \\\n",
        "      im_pad[i, j - 1] * filter1[1, 0] + \\\n",
        "      im_pad[i, j] * filter1[1, 1] + \\\n",
        "      im_pad[i, j+1] * filter1[1, 2] + \\\n",
        "      im_pad[i + 1, j - 1] * filter1[2, 0] + \\\n",
        "      im_pad[i + 1, j] * filter1[2, 1] + \\\n",
        "      im_pad[i+1, j+1] * filter1[2, 2]\n",
        "    except:\n",
        "      pass\n",
        "    \n",
        "plt.axis('off')\n",
        "plt.imshow(new_image, cmap='Greys');\n"
      ],
      "execution_count": 4,
      "outputs": [
        {
          "output_type": "display_data",
          "data": {
            "image/png": "[encoded data removed]",
            "text/plain": [
              "<Figure size 432x288 with 1 Axes>"
            ]
          },
          "metadata": {
            "tags": []
          }
        }
      ]
    },
    {
      "cell_type": "code",
      "metadata": {
        "id": "Wvi1Xeo4f8ON",
        "colab_type": "code",
        "colab": {
          "base_uri": "https://localhost:8080/",
          "height": 268
        },
        "outputId": "b16a1da2-6947-4be4-83e7-abbba0fa7009"
      },
      "source": [
        "# vertical edge filter\n",
        "filter2 = np.array([\n",
        "    [-1, 0, 1],\n",
        "    [-1, 0, 1],\n",
        "    [-1, 0, 1]\n",
        "])\n",
        "\n",
        "new_image = np.zeros(img.shape)\n",
        "\n",
        "im_pad = np.pad(img, 1, 'constant')\n",
        "\n",
        "for i in range(img.shape[0]):\n",
        "  for j in range(img.shape[1]):\n",
        "    try:\n",
        "      new_image[i, j] = \\\n",
        "      im_pad[i-1, j-1] * filter2[0, 0] + \\\n",
        "      im_pad[i-1, j] * filter2[0,1] + \\\n",
        "      im_pad[i-1, j+1] * filter2[0,2] + \\\n",
        "      im_pad[i, j - 1] * filter2[1, 0] + \\\n",
        "      im_pad[i, j] * filter2[1, 1] + \\\n",
        "      im_pad[i, j+1] * filter2[1, 2] + \\\n",
        "      im_pad[i + 1, j - 1] * filter2[2, 0] + \\\n",
        "      im_pad[i + 1, j] * filter2[2, 1] + \\\n",
        "      im_pad[i+1, j+1] * filter2[2, 2]\n",
        "    except:\n",
        "      pass\n",
        "    \n",
        "plt.axis('off')\n",
        "plt.imshow(new_image, cmap='Greys');\n"
      ],
      "execution_count": 6,
      "outputs": [
        {
          "output_type": "display_data",
          "data": {
            "image/png": "[encoded data removed]",
            "text/plain": [
              "<Figure size 432x288 with 1 Axes>"
            ]
          },
          "metadata": {
            "tags": []
          }
        }
      ]
    },
    {
      "cell_type": "code",
      "metadata": {
        "id": "Mtdfy6V-gT4U",
        "colab_type": "code",
        "colab": {
          "base_uri": "https://localhost:8080/",
          "height": 266
        },
        "outputId": "c3c1c040-71ae-4d58-a4c5-7dc92eab0a0b"
      },
      "source": [
        "# horizontal edge filter with stride 2\n",
        "filter1 = np.array([\n",
        "    [ 1,  1,  1],\n",
        "    [ 0,  0,  0],\n",
        "    [-1, -1, -1]\n",
        "])\n",
        "\n",
        "stride = 2\n",
        "\n",
        "new_image = np.zeros((int(img.shape[0] / stride), int(img.shape[1] / stride)))\n",
        "\n",
        "\n",
        "im_pad = np.pad(img,1, 'constant')\n",
        "\n",
        "for i in range(0,img.shape[0],stride):\n",
        "    for j in range(0,img.shape[1],stride):\n",
        "        try:\n",
        "            new_image[int(i/stride),int(j/stride)] = \\\n",
        "            im_pad[i-1,j-1] * filter1[0,0] + \\\n",
        "            im_pad[i-1,j] * filter1[0,1] + \\\n",
        "            im_pad[i-1,j+1] * filter1[0,2] + \\\n",
        "            im_pad[i,j-1] * filter1[1,0] + \\\n",
        "            im_pad[i,j] * filter1[1,1] + \\\n",
        "            im_pad[i,j+1] * filter1[1,2] +\\\n",
        "            im_pad[i+1,j-1] * filter1[2,0] + \\\n",
        "            im_pad[i+1,j] * filter1[2,1] + \\\n",
        "            im_pad[i+1,j+1] * filter1[2,2] \n",
        "        except:\n",
        "            pass\n",
        "\n",
        "plt.axis('off')\n",
        "plt.imshow(new_image, cmap='Greys');"
      ],
      "execution_count": 8,
      "outputs": [
        {
          "output_type": "display_data",
          "data": {
            "image/png": "[encoded data removed]",
            "text/plain": [
              "<Figure size 432x288 with 1 Axes>"
            ]
          },
          "metadata": {
            "tags": []
          }
        }
      ]
    },
    {
      "cell_type": "code",
      "metadata": {
        "id": "d9PTjIZ4h3PP",
        "colab_type": "code",
        "colab": {
          "base_uri": "https://localhost:8080/",
          "height": 266
        },
        "outputId": "39b29a1f-7d5b-4308-fef9-7a9b3ee99602"
      },
      "source": [
        "# vertical edge filter with stride 2\n",
        "filter2 = np.array([\n",
        "    [ -1,  0,  1],\n",
        "    [ -1,  0,  1],\n",
        "    [ -1,  0,  1]\n",
        "])\n",
        "\n",
        "stride = 2\n",
        "\n",
        "new_image = np.zeros((int(img.shape[0] / stride), int(img.shape[1] / stride)))\n",
        "\n",
        "\n",
        "im_pad = np.pad(img,1, 'constant')\n",
        "\n",
        "for i in range(0,img.shape[0],stride):\n",
        "    for j in range(0,img.shape[1],stride):\n",
        "        try:\n",
        "            new_image[int(i/stride),int(j/stride)] = \\\n",
        "            im_pad[i-1,j-1] * filter2[0,0] + \\\n",
        "            im_pad[i-1,j] * filter2[0,1] + \\\n",
        "            im_pad[i-1,j+1] * filter2[0,2] + \\\n",
        "            im_pad[i,j-1] * filter2[1,0] + \\\n",
        "            im_pad[i,j] * filter2[1,1] + \\\n",
        "            im_pad[i,j+1] * filter2[1,2] +\\\n",
        "            im_pad[i+1,j-1] * filter2[2,0] + \\\n",
        "            im_pad[i+1,j] * filter2[2,1] + \\\n",
        "            im_pad[i+1,j+1] * filter2[2,2] \n",
        "        except:\n",
        "            pass\n",
        "\n",
        "plt.axis('off')\n",
        "plt.imshow(new_image, cmap='Greys');"
      ],
      "execution_count": 9,
      "outputs": [
        {
          "output_type": "display_data",
          "data": {
            "image/png": "[encoded data removed]",
            "text/plain": [
              "<Figure size 432x288 with 1 Axes>"
            ]
          },
          "metadata": {
            "tags": []
          }
        }
      ]
    },
    {
      "cell_type": "code",
      "metadata": {
        "id": "5Ut6F2RliLst",
        "colab_type": "code",
        "colab": {}
      },
      "source": [
        ""
      ],
      "execution_count": 0,
      "outputs": []
    }
  ]
}