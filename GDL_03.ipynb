{
  "nbformat": 4,
  "nbformat_minor": 0,
  "metadata": {
    "colab": {
      "name": "GDL_03.ipynb",
      "version": "0.3.2",
      "provenance": [],
      "include_colab_link": true
    },
    "kernelspec": {
      "name": "python3",
      "display_name": "Python 3"
    },
    "accelerator": "GPU"
  },
  "cells": [
    {
      "cell_type": "markdown",
      "metadata": {
        "id": "view-in-github",
        "colab_type": "text"
      },
      "source": [
        "<a href=\"https://colab.research.google.com/github/apolanco3225/Generative-Deep-Learning/blob/master/GDL_03.ipynb\" target=\"_parent\"><img src=\"https://colab.research.google.com/assets/colab-badge.svg\" alt=\"Open In Colab\"/></a>"
      ]
    },
    {
      "cell_type": "code",
      "metadata": {
        "id": "cs1oJixFicFa",
        "colab_type": "code",
        "colab": {
          "base_uri": "https://localhost:8080/",
          "height": 34
        },
        "outputId": "014d604f-da87-42cd-f88f-630e007dd5fe"
      },
      "source": [
        "# FIRST CONVOLUTIONAL NEURAL NETWORK\n",
        "import numpy as np\n",
        "from keras.layers import Input, Flatten, Dense, Dropout, Activation\n",
        "from keras.layers import Dense, Conv2D, BatchNormalization, LeakyReLU\n",
        "from keras.models import Model\n",
        "from keras.optimizers import Adam\n",
        "from keras.utils import to_categorical\n",
        "import keras.backend as K\n",
        "from keras.datasets import cifar10\n"
      ],
      "execution_count": 1,
      "outputs": [
        {
          "output_type": "stream",
          "text": [
            "Using TensorFlow backend.\n"
          ],
          "name": "stderr"
        }
      ]
    },
    {
      "cell_type": "code",
      "metadata": {
        "id": "zI3NKnQilIRG",
        "colab_type": "code",
        "colab": {
          "base_uri": "https://localhost:8080/",
          "height": 52
        },
        "outputId": "6b2c9e63-d38f-422d-8cbf-f3f934fc5c8a"
      },
      "source": [
        "num_classes = 10\n",
        "(trainX, trainY), (testX, testY) = cifar10.load_data()"
      ],
      "execution_count": 2,
      "outputs": [
        {
          "output_type": "stream",
          "text": [
            "Downloading data from https://www.cs.toronto.edu/~kriz/cifar-10-python.tar.gz\n",
            "170500096/170498071 [==============================] - 10s 0us/step\n"
          ],
          "name": "stdout"
        }
      ]
    },
    {
      "cell_type": "code",
      "metadata": {
        "id": "Lt0xcPQQlR_f",
        "colab_type": "code",
        "colab": {}
      },
      "source": [
        "# image pre processing\n",
        "trainX = trainX.astype('float32') / 255.0\n",
        "testX = testX.astype('float32') / 255.0\n",
        "\n",
        "trainY = to_categorical(trainY, num_classes)\n",
        "testY = to_categorical(testY, num_classes)"
      ],
      "execution_count": 0,
      "outputs": []
    },
    {
      "cell_type": "code",
      "metadata": {
        "id": "TJewk6ijlioP",
        "colab_type": "code",
        "colab": {
          "base_uri": "https://localhost:8080/",
          "height": 159
        },
        "outputId": "83255773-2380-4160-ce58-a6187178d1e1"
      },
      "source": [
        "# NN architecture\n",
        "input_layer = Input(shape=(32, 32, 3))\n",
        "\n",
        "conv_layer_1 = Conv2D(filters=10, kernel_size=(4, 4), strides=2, padding='same')(input_layer)\n",
        "conv_layer_2 = Conv2D(filters=20, kernel_size=(3, 3), strides=2, padding='same')(conv_layer_1)\n",
        "flatten_layer = Flatten()(conv_layer_2)\n",
        "output_layer = Dense(units=10, activation='softmax')(flatten_layer)\n",
        "model = Model(input_layer, output_layer)"
      ],
      "execution_count": 4,
      "outputs": [
        {
          "output_type": "stream",
          "text": [
            "WARNING: Logging before flag parsing goes to stderr.\n",
            "W0904 14:11:39.382040 139967882549120 deprecation_wrapper.py:119] From /usr/local/lib/python3.6/dist-packages/keras/backend/tensorflow_backend.py:66: The name tf.get_default_graph is deprecated. Please use tf.compat.v1.get_default_graph instead.\n",
            "\n",
            "W0904 14:11:39.421135 139967882549120 deprecation_wrapper.py:119] From /usr/local/lib/python3.6/dist-packages/keras/backend/tensorflow_backend.py:541: The name tf.placeholder is deprecated. Please use tf.compat.v1.placeholder instead.\n",
            "\n",
            "W0904 14:11:39.432062 139967882549120 deprecation_wrapper.py:119] From /usr/local/lib/python3.6/dist-packages/keras/backend/tensorflow_backend.py:4432: The name tf.random_uniform is deprecated. Please use tf.random.uniform instead.\n",
            "\n"
          ],
          "name": "stderr"
        }
      ]
    },
    {
      "cell_type": "code",
      "metadata": {
        "id": "QcLHIcW0ndRD",
        "colab_type": "code",
        "colab": {
          "base_uri": "https://localhost:8080/",
          "height": 330
        },
        "outputId": "3b7aa7d7-b818-438a-df47-2adef58678f9"
      },
      "source": [
        "model.summary()"
      ],
      "execution_count": 5,
      "outputs": [
        {
          "output_type": "stream",
          "text": [
            "Model: \"model_1\"\n",
            "_________________________________________________________________\n",
            "Layer (type)                 Output Shape              Param #   \n",
            "=================================================================\n",
            "input_1 (InputLayer)         (None, 32, 32, 3)         0         \n",
            "_________________________________________________________________\n",
            "conv2d_1 (Conv2D)            (None, 16, 16, 10)        490       \n",
            "_________________________________________________________________\n",
            "conv2d_2 (Conv2D)            (None, 8, 8, 20)          1820      \n",
            "_________________________________________________________________\n",
            "flatten_1 (Flatten)          (None, 1280)              0         \n",
            "_________________________________________________________________\n",
            "dense_1 (Dense)              (None, 10)                12810     \n",
            "=================================================================\n",
            "Total params: 15,120\n",
            "Trainable params: 15,120\n",
            "Non-trainable params: 0\n",
            "_________________________________________________________________\n"
          ],
          "name": "stdout"
        }
      ]
    },
    {
      "cell_type": "code",
      "metadata": {
        "id": "lStt4sSBnmSk",
        "colab_type": "code",
        "colab": {
          "base_uri": "https://localhost:8080/",
          "height": 193
        },
        "outputId": "0d3a02ef-c207-43ac-8ba6-7591686e0d2f"
      },
      "source": [
        "# another CNN architecture\n",
        "input_layer = Input((32, 32, 3))\n",
        "x = Conv2D(filters=32, kernel_size=3, strides=1, padding='same')(input_layer)\n",
        "x = LeakyReLU()(x)\n",
        "\n",
        "x = Conv2D(filters=32, kernel_size=3, strides=1, padding='same')(x)\n",
        "x = BatchNormalization()(x)\n",
        "x = LeakyReLU()(x)\n",
        "\n",
        "x = Conv2D(filters=64, kernel_size=3, strides=1, padding='same')(x)\n",
        "x = BatchNormalization()(x)\n",
        "x = LeakyReLU()(x)\n",
        "\n",
        "x = Conv2D(filters=64, kernel_size=3, strides=1, padding='same')(x)\n",
        "x = BatchNormalization()(x)\n",
        "x = LeakyReLU()(x)\n",
        "\n",
        "x = Flatten()(x)\n",
        "\n",
        "x = Dense(128)(x)\n",
        "x = BatchNormalization()(x)\n",
        "x = LeakyReLU()(x)\n",
        "x = Dropout(rate=0.5)(x)\n",
        "\n",
        "x = Dense(num_classes)(x)\n",
        "output_layer = Activation('softmax')(x)\n",
        "\n",
        "model = Model(input_layer, output_layer)"
      ],
      "execution_count": 7,
      "outputs": [
        {
          "output_type": "stream",
          "text": [
            "W0904 14:25:44.360620 139967882549120 deprecation_wrapper.py:119] From /usr/local/lib/python3.6/dist-packages/keras/backend/tensorflow_backend.py:190: The name tf.get_default_session is deprecated. Please use tf.compat.v1.get_default_session instead.\n",
            "\n",
            "W0904 14:25:44.361804 139967882549120 deprecation_wrapper.py:119] From /usr/local/lib/python3.6/dist-packages/keras/backend/tensorflow_backend.py:197: The name tf.ConfigProto is deprecated. Please use tf.compat.v1.ConfigProto instead.\n",
            "\n",
            "W0904 14:25:47.866942 139967882549120 deprecation_wrapper.py:119] From /usr/local/lib/python3.6/dist-packages/keras/backend/tensorflow_backend.py:2041: The name tf.nn.fused_batch_norm is deprecated. Please use tf.compat.v1.nn.fused_batch_norm instead.\n",
            "\n",
            "W0904 14:25:48.312057 139967882549120 deprecation.py:506] From /usr/local/lib/python3.6/dist-packages/keras/backend/tensorflow_backend.py:3733: calling dropout (from tensorflow.python.ops.nn_ops) with keep_prob is deprecated and will be removed in a future version.\n",
            "Instructions for updating:\n",
            "Please use `rate` instead of `keep_prob`. Rate should be set to `rate = 1 - keep_prob`.\n"
          ],
          "name": "stderr"
        }
      ]
    },
    {
      "cell_type": "code",
      "metadata": {
        "id": "OqcdtjsTqo5s",
        "colab_type": "code",
        "colab": {
          "base_uri": "https://localhost:8080/",
          "height": 816
        },
        "outputId": "4a99ba96-b8d6-4038-a924-eb197b96b96f"
      },
      "source": [
        "model.summary()"
      ],
      "execution_count": 8,
      "outputs": [
        {
          "output_type": "stream",
          "text": [
            "Model: \"model_2\"\n",
            "_________________________________________________________________\n",
            "Layer (type)                 Output Shape              Param #   \n",
            "=================================================================\n",
            "input_3 (InputLayer)         (None, 32, 32, 3)         0         \n",
            "_________________________________________________________________\n",
            "conv2d_3 (Conv2D)            (None, 32, 32, 32)        896       \n",
            "_________________________________________________________________\n",
            "leaky_re_lu_1 (LeakyReLU)    (None, 32, 32, 32)        0         \n",
            "_________________________________________________________________\n",
            "conv2d_4 (Conv2D)            (None, 32, 32, 32)        9248      \n",
            "_________________________________________________________________\n",
            "batch_normalization_1 (Batch (None, 32, 32, 32)        128       \n",
            "_________________________________________________________________\n",
            "leaky_re_lu_2 (LeakyReLU)    (None, 32, 32, 32)        0         \n",
            "_________________________________________________________________\n",
            "conv2d_5 (Conv2D)            (None, 32, 32, 64)        18496     \n",
            "_________________________________________________________________\n",
            "batch_normalization_2 (Batch (None, 32, 32, 64)        256       \n",
            "_________________________________________________________________\n",
            "leaky_re_lu_3 (LeakyReLU)    (None, 32, 32, 64)        0         \n",
            "_________________________________________________________________\n",
            "conv2d_6 (Conv2D)            (None, 32, 32, 64)        36928     \n",
            "_________________________________________________________________\n",
            "batch_normalization_3 (Batch (None, 32, 32, 64)        256       \n",
            "_________________________________________________________________\n",
            "leaky_re_lu_4 (LeakyReLU)    (None, 32, 32, 64)        0         \n",
            "_________________________________________________________________\n",
            "flatten_2 (Flatten)          (None, 65536)             0         \n",
            "_________________________________________________________________\n",
            "dense_2 (Dense)              (None, 128)               8388736   \n",
            "_________________________________________________________________\n",
            "batch_normalization_4 (Batch (None, 128)               512       \n",
            "_________________________________________________________________\n",
            "leaky_re_lu_5 (LeakyReLU)    (None, 128)               0         \n",
            "_________________________________________________________________\n",
            "dropout_1 (Dropout)          (None, 128)               0         \n",
            "_________________________________________________________________\n",
            "dense_3 (Dense)              (None, 10)                1290      \n",
            "_________________________________________________________________\n",
            "activation_1 (Activation)    (None, 10)                0         \n",
            "=================================================================\n",
            "Total params: 8,456,746\n",
            "Trainable params: 8,456,170\n",
            "Non-trainable params: 576\n",
            "_________________________________________________________________\n"
          ],
          "name": "stdout"
        }
      ]
    },
    {
      "cell_type": "code",
      "metadata": {
        "id": "1YPTQGQjqu87",
        "colab_type": "code",
        "colab": {
          "base_uri": "https://localhost:8080/",
          "height": 72
        },
        "outputId": "b04409ed-4fe7-44b0-9775-7de68baa8f4c"
      },
      "source": [
        "opt = Adam(lr=0.0005)\n",
        "model.compile(loss='categorical_crossentropy', optimizer=opt, metrics=['accuracy'])\n"
      ],
      "execution_count": 9,
      "outputs": [
        {
          "output_type": "stream",
          "text": [
            "W0904 14:26:59.820375 139967882549120 deprecation_wrapper.py:119] From /usr/local/lib/python3.6/dist-packages/keras/optimizers.py:793: The name tf.train.Optimizer is deprecated. Please use tf.compat.v1.train.Optimizer instead.\n",
            "\n"
          ],
          "name": "stderr"
        }
      ]
    },
    {
      "cell_type": "code",
      "metadata": {
        "id": "4Ohbt7jAq9_d",
        "colab_type": "code",
        "colab": {
          "base_uri": "https://localhost:8080/",
          "height": 471
        },
        "outputId": "5e7a7885-ad86-46cf-8ff7-6ebdf8659170"
      },
      "source": [
        "model.fit(trainX, trainY, batch_size=32, epochs=10, shuffle=True, validation_data=(testX, testY))"
      ],
      "execution_count": 11,
      "outputs": [
        {
          "output_type": "stream",
          "text": [
            "W0904 14:27:47.619830 139967882549120 deprecation.py:323] From /usr/local/lib/python3.6/dist-packages/tensorflow/python/ops/math_grad.py:1250: add_dispatch_support.<locals>.wrapper (from tensorflow.python.ops.array_ops) is deprecated and will be removed in a future version.\n",
            "Instructions for updating:\n",
            "Use tf.where in 2.0, which has the same broadcast rule as np.where\n"
          ],
          "name": "stderr"
        },
        {
          "output_type": "stream",
          "text": [
            "Train on 50000 samples, validate on 10000 samples\n",
            "Epoch 1/10\n",
            "50000/50000 [==============================] - 37s 738us/step - loss: 1.4707 - acc: 0.4868 - val_loss: 1.1808 - val_acc: 0.5927\n",
            "Epoch 2/10\n",
            "50000/50000 [==============================] - 32s 633us/step - loss: 1.0359 - acc: 0.6406 - val_loss: 0.9429 - val_acc: 0.6666\n",
            "Epoch 3/10\n",
            "50000/50000 [==============================] - 32s 635us/step - loss: 0.9185 - acc: 0.6787 - val_loss: 0.9921 - val_acc: 0.6522\n",
            "Epoch 4/10\n",
            "50000/50000 [==============================] - 32s 631us/step - loss: 0.8386 - acc: 0.7099 - val_loss: 1.0902 - val_acc: 0.6196\n",
            "Epoch 5/10\n",
            "50000/50000 [==============================] - 31s 626us/step - loss: 0.7716 - acc: 0.7302 - val_loss: 1.0266 - val_acc: 0.6476\n",
            "Epoch 6/10\n",
            "50000/50000 [==============================] - 31s 627us/step - loss: 0.6992 - acc: 0.7549 - val_loss: 0.9374 - val_acc: 0.6811\n",
            "Epoch 7/10\n",
            "50000/50000 [==============================] - 31s 626us/step - loss: 0.6416 - acc: 0.7738 - val_loss: 1.0260 - val_acc: 0.6562\n",
            "Epoch 8/10\n",
            "50000/50000 [==============================] - 31s 622us/step - loss: 0.5816 - acc: 0.7961 - val_loss: 0.9226 - val_acc: 0.6986\n",
            "Epoch 9/10\n",
            "50000/50000 [==============================] - 31s 620us/step - loss: 0.5256 - acc: 0.8160 - val_loss: 0.8882 - val_acc: 0.7114\n",
            "Epoch 10/10\n",
            "50000/50000 [==============================] - 31s 619us/step - loss: 0.4768 - acc: 0.8316 - val_loss: 0.9594 - val_acc: 0.6888\n"
          ],
          "name": "stdout"
        },
        {
          "output_type": "execute_result",
          "data": {
            "text/plain": [
              "<keras.callbacks.History at 0x7f4c74bd1b38>"
            ]
          },
          "metadata": {
            "tags": []
          },
          "execution_count": 11
        }
      ]
    },
    {
      "cell_type": "code",
      "metadata": {
        "id": "vEQEt00BrF-E",
        "colab_type": "code",
        "colab": {
          "base_uri": "https://localhost:8080/",
          "height": 1000
        },
        "outputId": "ce9837dd-0bd1-40c7-99ba-5dd83fb54778"
      },
      "source": [
        "model.layers[6].get_weights()"
      ],
      "execution_count": 13,
      "outputs": [
        {
          "output_type": "execute_result",
          "data": {
            "text/plain": [
              "[array([[[[-0.16874596, -0.07454356, -0.09294762, ...,  0.03747098,\n",
              "            0.05737407, -0.11392178],\n",
              "          [-0.09682187,  0.0234166 , -0.02104536, ...,  0.25793368,\n",
              "            0.09711816,  0.08387993],\n",
              "          [ 0.05903518, -0.07196845,  0.02688006, ..., -0.01226843,\n",
              "           -0.19088559,  0.06129375],\n",
              "          ...,\n",
              "          [-0.03204846,  0.04028217,  0.08541503, ..., -0.08813883,\n",
              "           -0.02647549,  0.03857784],\n",
              "          [ 0.00656859,  0.07288129,  0.0655026 , ...,  0.03667876,\n",
              "            0.01033527,  0.03916325],\n",
              "          [ 0.01662426, -0.02142862, -0.10717929, ...,  0.04140985,\n",
              "            0.1029029 , -0.11249506]],\n",
              " \n",
              "         [[-0.09494453, -0.11544105, -0.02323138, ...,  0.01513403,\n",
              "            0.12044539, -0.03649243],\n",
              "          [-0.08048934, -0.13990897,  0.03225687, ...,  0.2188712 ,\n",
              "           -0.06415912,  0.10381851],\n",
              "          [-0.1081557 , -0.0746338 ,  0.17458563, ..., -0.0023282 ,\n",
              "            0.02164363,  0.05985609],\n",
              "          ...,\n",
              "          [-0.01444122,  0.0522723 ,  0.06402843, ..., -0.07085074,\n",
              "           -0.12328289, -0.03302778],\n",
              "          [ 0.01879086,  0.09466896,  0.14429696, ..., -0.00410951,\n",
              "            0.07431183,  0.02090349],\n",
              "          [-0.00391511,  0.00061756, -0.04965391, ..., -0.11534268,\n",
              "            0.13908213, -0.08080956]],\n",
              " \n",
              "         [[ 0.13324255, -0.05272558,  0.03751578, ..., -0.16417174,\n",
              "            0.1423101 ,  0.01014602],\n",
              "          [ 0.07470974, -0.13287115,  0.02205047, ...,  0.16357128,\n",
              "           -0.09117954,  0.00391454],\n",
              "          [-0.11103302, -0.06672717,  0.06899079, ...,  0.05761435,\n",
              "           -0.10156532,  0.00263661],\n",
              "          ...,\n",
              "          [ 0.06949925,  0.08681914,  0.02932755, ...,  0.0285127 ,\n",
              "           -0.07155693,  0.06277381],\n",
              "          [ 0.0105822 , -0.00974564,  0.07486386, ..., -0.03111093,\n",
              "           -0.07034115,  0.1336532 ],\n",
              "          [-0.05093756,  0.01724452, -0.04912962, ..., -0.08745873,\n",
              "            0.06046482, -0.0735137 ]]],\n",
              " \n",
              " \n",
              "        [[[-0.09775579, -0.16278812, -0.11199369, ...,  0.06534456,\n",
              "            0.10262671,  0.02260336],\n",
              "          [-0.00608726, -0.1346418 , -0.04065447, ...,  0.20909907,\n",
              "            0.03424916,  0.06402112],\n",
              "          [-0.06411955, -0.05070758,  0.09229573, ...,  0.05519071,\n",
              "           -0.16118562,  0.04296523],\n",
              "          ...,\n",
              "          [ 0.00142532, -0.06647852, -0.03372734, ..., -0.01154071,\n",
              "           -0.04571089,  0.15204717],\n",
              "          [-0.10080937, -0.00518955,  0.00194458, ...,  0.09294952,\n",
              "            0.00207305, -0.01176123],\n",
              "          [ 0.08546837,  0.03457989, -0.08027174, ..., -0.12292624,\n",
              "           -0.04217396, -0.04209112]],\n",
              " \n",
              "         [[-0.0738506 , -0.18491572, -0.08830659, ...,  0.04941749,\n",
              "            0.01328743, -0.02992617],\n",
              "          [ 0.05734336, -0.06518773, -0.09900466, ...,  0.14396201,\n",
              "            0.02241434, -0.03715603],\n",
              "          [ 0.05622806, -0.11856455,  0.08570763, ..., -0.01370225,\n",
              "           -0.06064853,  0.12451866],\n",
              "          ...,\n",
              "          [ 0.03603078, -0.00892144, -0.06443842, ..., -0.08469187,\n",
              "           -0.09419586,  0.12727422],\n",
              "          [-0.00039754,  0.07340666,  0.13159347, ..., -0.08169262,\n",
              "            0.01254231, -0.05851085],\n",
              "          [ 0.02792097,  0.0812374 ,  0.02523422, ...,  0.04414417,\n",
              "            0.0167688 , -0.1144947 ]],\n",
              " \n",
              "         [[ 0.02258182, -0.05035279, -0.17250241, ..., -0.15471527,\n",
              "            0.01138743, -0.08515239],\n",
              "          [ 0.08105649, -0.18260498,  0.04719185, ...,  0.16733862,\n",
              "            0.11087405, -0.06689554],\n",
              "          [-0.1409223 , -0.0507151 , -0.08220297, ..., -0.03964588,\n",
              "           -0.09036634,  0.03781808],\n",
              "          ...,\n",
              "          [ 0.03966601,  0.11803069, -0.08244841, ...,  0.0346194 ,\n",
              "           -0.00571484,  0.01506359],\n",
              "          [-0.13031985, -0.01315131,  0.07643139, ...,  0.0242659 ,\n",
              "           -0.0351514 , -0.04756173],\n",
              "          [-0.06940717, -0.05974719, -0.04687869, ...,  0.04022853,\n",
              "           -0.01847673, -0.03261398]]],\n",
              " \n",
              " \n",
              "        [[[-0.07527588, -0.12927353, -0.19544837, ..., -0.08143108,\n",
              "            0.06213271, -0.0177319 ],\n",
              "          [-0.1825787 ,  0.01528367, -0.02421911, ...,  0.05852036,\n",
              "           -0.04178891, -0.07933486],\n",
              "          [-0.1051831 , -0.00247764,  0.03787511, ...,  0.01332591,\n",
              "            0.02700318, -0.16626292],\n",
              "          ...,\n",
              "          [-0.058205  , -0.02040508,  0.08453676, ..., -0.06789075,\n",
              "            0.04081896, -0.07318818],\n",
              "          [-0.05061758, -0.08229464, -0.08180755, ...,  0.00872225,\n",
              "           -0.0035437 ,  0.10804483],\n",
              "          [ 0.00348832,  0.03034651, -0.10463898, ...,  0.01756018,\n",
              "           -0.11292067,  0.05459037]],\n",
              " \n",
              "         [[ 0.04693061,  0.06216127, -0.13081713, ..., -0.04538116,\n",
              "            0.06482739, -0.03213581],\n",
              "          [-0.00607445, -0.10266691, -0.05901166, ..., -0.03721229,\n",
              "            0.02019732, -0.07246664],\n",
              "          [-0.09595318,  0.04436876, -0.10180724, ..., -0.05430331,\n",
              "            0.0579299 ,  0.04038733],\n",
              "          ...,\n",
              "          [-0.00186356,  0.07868344,  0.11902627, ..., -0.05480599,\n",
              "           -0.02828577,  0.03097699],\n",
              "          [-0.01278071,  0.05273176,  0.04809844, ...,  0.03510255,\n",
              "            0.09061991,  0.06929276],\n",
              "          [-0.13342413,  0.13814966, -0.0350755 , ..., -0.13541001,\n",
              "           -0.18669918, -0.02169667]],\n",
              " \n",
              "         [[-0.03175748, -0.11003787, -0.19605812, ..., -0.08541572,\n",
              "           -0.02293478, -0.00038391],\n",
              "          [-0.00632225, -0.0164504 , -0.10906725, ...,  0.08105592,\n",
              "            0.04289228, -0.04943506],\n",
              "          [-0.16990015, -0.04520549, -0.05687297, ..., -0.05042176,\n",
              "            0.0006614 , -0.15539292],\n",
              "          ...,\n",
              "          [ 0.02484943,  0.10187174,  0.03402582, ..., -0.04752056,\n",
              "           -0.01909845,  0.07099912],\n",
              "          [-0.01147802, -0.03562361,  0.09576627, ...,  0.03076649,\n",
              "            0.06678184,  0.11393539],\n",
              "          [-0.11718015,  0.07294407, -0.04074017, ..., -0.04917903,\n",
              "           -0.14615498,  0.11136748]]]], dtype=float32),\n",
              " array([ 4.6431976e-03, -1.2229764e-02,  2.4617745e-03,  5.6431633e-03,\n",
              "         5.6072650e-03,  3.5655608e-03, -3.9312444e-03, -1.5375065e-04,\n",
              "         6.0941330e-03, -6.5896092e-03, -7.1116834e-04, -5.4672696e-03,\n",
              "        -1.4224870e-05, -4.9326401e-03,  4.4092867e-03,  1.0918907e-02,\n",
              "         3.5571610e-03,  5.6293784e-03, -5.9614512e-03, -3.9806189e-03,\n",
              "        -4.2009560e-05,  1.7192458e-03,  1.0400214e-03, -5.6659098e-04,\n",
              "        -2.5141875e-03, -3.1498771e-03, -7.2836474e-04, -2.9718643e-03,\n",
              "        -3.4181802e-03, -1.0013977e-03,  3.2691038e-04,  1.1507523e-02,\n",
              "        -4.8942491e-04, -6.4052055e-03, -7.4929773e-04,  3.0182069e-03,\n",
              "         5.3597903e-03, -4.8254369e-04, -4.9014362e-03, -3.4934650e-03,\n",
              "        -5.0672876e-05, -9.8765432e-04, -1.1447201e-03, -3.4978769e-03,\n",
              "         6.9431299e-03, -4.9341423e-03,  4.3782648e-03,  9.7948930e-04,\n",
              "         3.1808256e-03, -3.5612381e-03, -2.9723179e-03,  2.7343156e-04,\n",
              "         7.6998314e-03, -1.4553398e-03, -6.1479923e-03,  8.8955578e-04,\n",
              "         4.2745136e-03, -3.4694374e-03, -4.8119407e-03, -3.8294978e-03,\n",
              "        -4.4882786e-03,  1.3078180e-03,  4.6443236e-03,  3.8931539e-04],\n",
              "       dtype=float32)]"
            ]
          },
          "metadata": {
            "tags": []
          },
          "execution_count": 13
        }
      ]
    },
    {
      "cell_type": "code",
      "metadata": {
        "id": "OqNihzD_znwY",
        "colab_type": "code",
        "colab": {
          "base_uri": "https://localhost:8080/",
          "height": 52
        },
        "outputId": "da1e1dfa-ece8-464a-c214-c85176767428"
      },
      "source": [
        "model.evaluate(testX, testY, batch_size=1000)"
      ],
      "execution_count": 14,
      "outputs": [
        {
          "output_type": "stream",
          "text": [
            "10000/10000 [==============================] - 2s 208us/step\n"
          ],
          "name": "stdout"
        },
        {
          "output_type": "execute_result",
          "data": {
            "text/plain": [
              "[0.959362941980362, 0.6887999951839447]"
            ]
          },
          "metadata": {
            "tags": []
          },
          "execution_count": 14
        }
      ]
    },
    {
      "cell_type": "code",
      "metadata": {
        "id": "1GSwWWASzzES",
        "colab_type": "code",
        "colab": {}
      },
      "source": [
        "CLASSES = np.array(['airplane', 'automobile', 'bird', 'cat', 'deer', 'dog', 'frog', 'horse', 'ship', 'truck'])\n",
        "\n",
        "preds = model.predict(testX)\n",
        "preds_single = CLASSES[np.argmax(preds, axis=-1)]\n",
        "actual_single = CLASSES[np.argmax(testY, axis=-1 )]"
      ],
      "execution_count": 0,
      "outputs": []
    },
    {
      "cell_type": "code",
      "metadata": {
        "id": "i_ynbxLs0BKg",
        "colab_type": "code",
        "colab": {
          "base_uri": "https://localhost:8080/",
          "height": 161
        },
        "outputId": "b0259713-3aa8-4d2d-b385-b1f77d87130d"
      },
      "source": [
        "import matplotlib.pyplot as plt\n",
        "\n",
        "n_to_show = 10\n",
        "indices = np.random.choice(range(len(testX)), n_to_show)\n",
        "\n",
        "fig = plt.figure(figsize=(15, 3))\n",
        "fig.subplots_adjust(hspace=0.4, wspace=0.4)\n",
        "\n",
        "for i, idx in enumerate(indices):\n",
        "  img = testX[idx]\n",
        "  ax = fig.add_subplot(1, n_to_show, i+1)\n",
        "  ax.axis('off')\n",
        "  ax.text(0.5, -0.35, 'pred = '+ str(preds_single[idx]), fontsize=10, ha='center',\n",
        "         transform=ax.transAxes)\n",
        "  ax.text(0.5, -0.7, 'act = ' + str(actual_single[idx]), fontsize=10, ha='center', \n",
        "         transform=ax.transAxes)\n",
        "  ax.imshow(img)"
      ],
      "execution_count": 21,
      "outputs": [
        {
          "output_type": "display_data",
          "data": {
            "image/png": "[encoded data removed]",
            "text/plain": [
              "<Figure size 1080x216 with 10 Axes>"
            ]
          },
          "metadata": {
            "tags": []
          }
        }
      ]
    },
    {
      "cell_type": "code",
      "metadata": {
        "id": "dSmBvSIC1EBM",
        "colab_type": "code",
        "colab": {}
      },
      "source": [
        ""
      ],
      "execution_count": 0,
      "outputs": []
    }
  ]
}